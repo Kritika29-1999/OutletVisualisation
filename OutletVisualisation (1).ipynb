{
  "cells": [
    {
      "cell_type": "code",
      "execution_count": null,
      "metadata": {
        "id": "Rw8YpP_LHbLD"
      },
      "outputs": [],
      "source": [
        "!pip install hvplot\n",
        "import matplotlib.pyplot as plt\n",
        "import pandas as pd\n",
        "import numpy as np\n",
        "import numpy as np\n",
        "import hvplot.pandas\n",
        "import holoviews as hv\n",
        "import seaborn as sns\n",
        "\n",
        "\n",
        "data = pd.read_csv('https://raw.githubusercontent.com/ChrisWalshaw/DataViz/master/Data/001207067/OutletDailyCustomers.csv',index_col=0)\n",
        "data2 = pd.read_csv('https://raw.githubusercontent.com/ChrisWalshaw/DataViz/master/Data/001207067/OutletMarketing.csv', index_col=0)\n",
        "data3 = pd.read_csv('https://raw.githubusercontent.com/ChrisWalshaw/DataViz/master/Data/001207067/OutletOverheads.csv', index_col=0)\n",
        "data4 = pd.read_csv('https://raw.githubusercontent.com/ChrisWalshaw/DataViz/master/Data/001207067/OutletSize.csv', index_col=0)\n",
        "data5 = pd.read_csv('https://raw.githubusercontent.com/ChrisWalshaw/DataViz/master/Data/001207067/OutletStaff.csv', index_col=0)\n",
        "summary_data = pd.DataFrame(index=data.columns)\n",
        "summary_data['Marketing'] = data2.values\n",
        "summary_data['Overheads'] = data3.values\n",
        "summary_data['TotalCustomers'] = data.sum().values\n",
        "summary_data['Size'] = data4.values\n",
        "summary_data['Staff'] = data5.values\n"
      ]
    },
    {
      "cell_type": "markdown",
      "metadata": {
        "id": "qVSdPA-Md7IQ"
      },
      "source": [
        "# Pie chart for the volume of daily visitors"
      ]
    },
    {
      "cell_type": "code",
      "execution_count": null,
      "metadata": {
        "id": "JknWKykL28RS"
      },
      "outputs": [],
      "source": [
        "data = data.reindex(data.sum().sort_values(ascending=False).index, axis=1)\n",
        "explodeList = []\n",
        "selected = []\n",
        "high_volume = []\n",
        "medium_volume = []\n",
        "low_volume = []\n",
        "columns = data.columns\n",
        "data['Others'] = [0] * len(data.index)\n",
        "for name in columns:\n",
        "    total_sales = data[name].sum()\n",
        "    if total_sales > 200000:\n",
        "        selected.append(name)\n",
        "        explodeList.append(0)\n",
        "        if(total_sales>600000):\n",
        "          high_volume.append(name)\n",
        "        else:\n",
        "          medium_volume.append(name)\n",
        "    else:\n",
        "        data['Others'] += data[name]\n",
        "        low_volume.append(name)\n",
        "selected.append('Others')\n",
        "explodeList.append(0.05)\n",
        "plt.figure(figsize=(8, 8))\n",
        "plt.pie(data[selected].sum(), labels=selected, autopct='%1.1f%%', startangle=90, explode=explodeList)\n",
        "plt.title('Total Customer Visits', fontsize=20)\n",
        "plt.legend(loc=2)\n",
        "plt.show()\n",
        "\n",
        "data = data.drop('Others', axis=1)\n"
      ]
    },
    {
      "cell_type": "markdown",
      "metadata": {
        "id": "MXX0H8jag7tb"
      },
      "source": [
        "# Radar Plots for Medium Volume Outlets\n",
        "\n",
        "\n"
      ]
    },
    {
      "cell_type": "code",
      "execution_count": null,
      "metadata": {
        "id": "J0UKz95Kg6Ww"
      },
      "outputs": [],
      "source": [
        "summary_data = summary_data.reindex(columns=['Marketing', 'TotalCustomers', 'Size', 'Staff','Overheads'])\n",
        "\n",
        "normalised_data = summary_data / summary_data.loc[medium_volume].max()\n",
        "n_attributes = len(normalised_data.columns)\n",
        "angles = [n / float(n_attributes) * 2 * np.pi for n in range(n_attributes + 1)]\n",
        "plt.figure(figsize=(12, 12))\n",
        "counter = 1\n",
        "for name in medium_volume:\n",
        "    values = normalised_data.loc[[name]].values.flatten().tolist()\n",
        "    values += values[:1]\n",
        "    sub = plt.subplot(4, 4, counter, polar=True)\n",
        "    sub.plot(angles, values)\n",
        "    sub.fill(angles, values, alpha=0.1)\n",
        "    sub.set_ylim(ymax=1.05)\n",
        "    sub.set_yticks([0.2, 0.4, 0.6, 0.8, 1.0])\n",
        "    sub.set_xticks(angles[0:-1])\n",
        "    sub.set_xticklabels(normalised_data.columns, fontsize=8)\n",
        "    sub.set_title('Outlet ' + name, fontsize=12, loc='left')\n",
        "    counter += 1\n",
        "plt.tight_layout()\n",
        "plt.show()"
      ]
    },
    {
      "cell_type": "markdown",
      "metadata": {
        "id": "sh0WrCMthYr7"
      },
      "source": [
        "# Radar Plots for High Volume Outlets\n"
      ]
    },
    {
      "cell_type": "code",
      "execution_count": null,
      "metadata": {
        "id": "0EVPcY9hhkYz"
      },
      "outputs": [],
      "source": [
        "normalised_data = summary_data / summary_data.loc[high_volume].max()\n",
        "n_attributes = len(normalised_data.columns)\n",
        "angles = [n / float(n_attributes) * 2 * np.pi for n in range(n_attributes + 1)]\n",
        "plt.figure(figsize=(12, 12))\n",
        "counter = 1\n",
        "for name in high_volume:\n",
        "    values = normalised_data.loc[[name]].values.flatten().tolist()\n",
        "    values += values[:1]\n",
        "    sub = plt.subplot(4, 4, counter, polar=True)\n",
        "    sub.plot(angles, values)\n",
        "    sub.fill(angles, values, alpha=0.1)\n",
        "    sub.set_ylim(ymax=1.05)\n",
        "    sub.set_yticks([0.2, 0.4, 0.6, 0.8, 1.0])\n",
        "    sub.set_xticks(angles[0:-1])\n",
        "    sub.set_xticklabels(normalised_data.columns, fontsize=8)\n",
        "    sub.set_title('Outlet ' + name, fontsize=12, loc='left')\n",
        "    counter += 1\n",
        "plt.tight_layout()\n",
        "plt.show()"
      ]
    },
    {
      "cell_type": "markdown",
      "metadata": {
        "id": "Cpejv16sjVop"
      },
      "source": [
        "# Scatter Plot Correlation on different variables of summary data of low volume outlets\n",
        "\n",
        "\n",
        "*(Marketing, Total Customers, Size, Staff and Overheads)*"
      ]
    },
    {
      "cell_type": "code",
      "execution_count": null,
      "metadata": {
        "id": "3loqK7lbiyIB"
      },
      "outputs": [],
      "source": [
        "new_df = summary_data.drop(medium_volume+high_volume)\n",
        "sns.pairplot(new_df, height=1.5, plot_kws={'s': 20})\n",
        "plt.suptitle(\"Scatter Plot of Summary Data of Low Volume Outlets\",y=1.05)\n",
        "plt.show()\n"
      ]
    },
    {
      "cell_type": "markdown",
      "metadata": {
        "id": "qyoWxLovpn1E"
      },
      "source": [
        "# HeatMap Correlation on different variables of summary data of low volume outlets\n",
        "\n",
        "\n",
        "*(Marketing, Total Customers, Size, Staff and Overheads)*"
      ]
    },
    {
      "cell_type": "code",
      "execution_count": null,
      "metadata": {
        "id": "YOqol3C0olWR"
      },
      "outputs": [],
      "source": [
        "plt.figure(figsize=(6, 6))\n",
        "corr = new_df.corr()\n",
        "ax = sns.heatmap(corr, vmin=-1, vmax=1, center=0, cmap=sns.diverging_palette(220, 20, n=200), square=True, annot=True,\n",
        "                 annot_kws={\"size\": 8})\n",
        "ax.set_xticklabels(ax.get_xticklabels(), rotation=45, horizontalalignment='right')\n",
        "plt.suptitle(\"HeatMap for Summary Data of Low Volume Outlets\",y=1.05)\n",
        "\n",
        "plt.show()\n"
      ]
    },
    {
      "cell_type": "code",
      "execution_count": null,
      "metadata": {
        "id": "z24ViFo5x7J2"
      },
      "outputs": [],
      "source": [
        "counter = 1\n",
        "fig = plt.figure(figsize=(16, 16))\n",
        "fig.suptitle('Outlets Visitor Line Chart', fontsize=20, position=(0.5, 1.0))\n",
        "for name in data.columns:\n",
        "    sub = fig.add_subplot(8, 8, counter)\n",
        "    sub.set_title('Outlet ' + name, fontsize=10)\n",
        "    if(name in low_volume):\n",
        "      sub.plot(data.index, data[name], linewidth=0.5)\n",
        "    elif(name in medium_volume):\n",
        "      sub.plot(data.index, data[name], linewidth=0.5, color = \"green\")\n",
        "    else:\n",
        "      sub.plot(data.index, data[name], linewidth=0.5, color = \"red\")\n",
        "    sub.axes.get_xaxis().set_ticks([])  # remove the x ticks\n",
        "    counter += 1\n",
        "plt.subplots_adjust(wspace=0.7, hspace=0.7)\n",
        "\n",
        "plt.show()"
      ]
    },
    {
      "cell_type": "markdown",
      "metadata": {
        "id": "-dCW6vr0Fl5H"
      },
      "source": [
        "# Trendline for the High Volume Pages"
      ]
    },
    {
      "cell_type": "code",
      "execution_count": null,
      "metadata": {
        "id": "PbMQce6hYIPD"
      },
      "outputs": [],
      "source": [
        "period = 90\n",
        "rolling_average = data.rolling(window=period).mean()\n",
        "print(data[high_volume].head())\n",
        "plt.figure(figsize=(8, 8))\n",
        "plt.plot(data[high_volume], linewidth=0.5)\n",
        "# plt.gca().set_prop_cycle(None)\n",
        "# plt.plot(rolling_average[selected], linewidth=2)\n",
        "plt.gca().set_prop_cycle(None)\n",
        "for name in high_volume:\n",
        "    x = np.arange(len(data[name]))\n",
        "    z = np.polyfit(x, data[name], 1)\n",
        "    trend = np.poly1d(z)\n",
        "    plt.plot(data.index, trend(x), linestyle='--')\n",
        "    slope, intercept = z\n",
        "    print(\"Slope of the trend line for \"+name+\" :\", slope)\n",
        "\n",
        "plt.ylim(ymin=0)\n",
        "plt.xlabel('Date', fontsize=18)\n",
        "plt.ylabel('Volume of Visitors', fontsize=18)\n",
        "plt.title('Correlated Volume of Visitors', fontsize=20)\n",
        "plt.legend(high_volume, loc=2)\n",
        "plt.show()"
      ]
    },
    {
      "cell_type": "markdown",
      "metadata": {
        "id": "q9cUqJ3kFuJX"
      },
      "source": [
        "# Trendline for the Medium Volume Pages"
      ]
    },
    {
      "cell_type": "code",
      "execution_count": null,
      "metadata": {
        "id": "KgRH6VB6ZnoV"
      },
      "outputs": [],
      "source": [
        "\n",
        "import numpy as np\n",
        "\n",
        "period = 90\n",
        "rolling_average = data.rolling(window=period).mean()\n",
        "\n",
        "\n",
        "print(data[medium_volume].head())\n",
        "\n",
        "plt.figure(figsize=(8, 8))\n",
        "plt.plot(data[medium_volume], linewidth=0.5)\n",
        "# plt.gca().set_prop_cycle(None)\n",
        "# plt.plot(rolling_average[selected], linewidth=2)\n",
        "plt.gca().set_prop_cycle(None)\n",
        "for name in medium_volume:\n",
        "    x = np.arange(len(data[name]))\n",
        "    z = np.polyfit(x, data[name], 1)\n",
        "    trend = np.poly1d(z)\n",
        "    plt.plot(data.index, trend(x), linestyle='--')\n",
        "    slope, intercept = z\n",
        "    print(\"Slope of the trend line for \"+name+\" :\", slope)\n",
        "plt.ylim(ymin=0)\n",
        "plt.xlabel('Date', fontsize=18)\n",
        "plt.ylabel('Volume of Visitors', fontsize=18)\n",
        "plt.title('Correlated Volume of Visitors', fontsize=20)\n",
        "plt.legend(medium_volume, loc=2)\n",
        "plt.show()"
      ]
    },
    {
      "cell_type": "markdown",
      "metadata": {
        "id": "d0KZo8vKLRVj"
      },
      "source": [
        "# High Volume Outlets Correlation"
      ]
    },
    {
      "cell_type": "code",
      "execution_count": null,
      "metadata": {
        "id": "h82iODp6WnSe"
      },
      "outputs": [],
      "source": [
        "\n",
        "counter = 1\n",
        "fig = plt.figure(figsize=(8, 8))\n",
        "fig.suptitle('High Volume Visitor Outlets correlations', fontsize=14, position=(0.5, 1.0))\n",
        "for i, name_i in enumerate(high_volume):\n",
        "    for j in range(i + 1, len(high_volume)):\n",
        "        name_j = high_volume[j]\n",
        "        sub = fig.add_subplot(6,6, counter)\n",
        "        sub.set_title(name_i + ' vs ' + name_j, fontsize=10)\n",
        "        sub.scatter(data[name_i], data[name_j], s=0.5)\n",
        "        counter += 1\n",
        "plt.subplots_adjust(wspace=0.5, hspace=0.5)\n",
        "plt.tight_layout()\n",
        "plt.show()"
      ]
    },
    {
      "cell_type": "code",
      "execution_count": null,
      "metadata": {
        "id": "OYykasTbXI97"
      },
      "outputs": [],
      "source": [
        "\n",
        "plt.figure(figsize=(4, 4))\n",
        "corr = data[high_volume].corr()\n",
        "ax = sns.heatmap(corr, vmin=-1, vmax=1, center=0, cmap=sns.diverging_palette(220, 20, n=200), square=True, annot=True,\n",
        "                 annot_kws={\"size\": 8})\n",
        "ax.set_xticklabels(ax.get_xticklabels(), rotation=45, horizontalalignment='right')\n",
        "plt.suptitle(\"HeatMap for Correlation of High Volume Visitors Outlets\",y=1.05)\n",
        "\n",
        "plt.show()"
      ]
    },
    {
      "cell_type": "markdown",
      "metadata": {
        "id": "Sql9b916LVQ4"
      },
      "source": [
        "# Medium Volume Outlet Correlation"
      ]
    },
    {
      "cell_type": "code",
      "execution_count": null,
      "metadata": {
        "id": "ZpAL6NFPXrar"
      },
      "outputs": [],
      "source": [
        "\n",
        "counter = 1\n",
        "fig = plt.figure(figsize=(8, 8))\n",
        "fig.suptitle('Medium Volume Visitor Outlets correlations', fontsize=14, position=(0.5, 1.0))\n",
        "for i, name_i in enumerate(medium_volume):\n",
        "    for j in range(i + 1, len(medium_volume)):\n",
        "        name_j = medium_volume[j]\n",
        "        sub = fig.add_subplot(6,6, counter)\n",
        "        sub.set_title(name_i + ' vs ' + name_j, fontsize=10)\n",
        "        sub.scatter(data[name_i], data[name_j], s=0.5)\n",
        "        counter += 1\n",
        "plt.subplots_adjust(wspace=0.5, hspace=0.5)\n",
        "plt.tight_layout()\n",
        "plt.show()"
      ]
    },
    {
      "cell_type": "code",
      "execution_count": null,
      "metadata": {
        "id": "pFYQL6vWX0R-"
      },
      "outputs": [],
      "source": [
        "plt.figure(figsize=(6, 6))\n",
        "corr = data[medium_volume].corr()\n",
        "ax = sns.heatmap(corr, vmin=-1, vmax=1, center=0, cmap=sns.diverging_palette(220, 20, n=200), square=True, annot=True,\n",
        "                 annot_kws={\"size\": 8})\n",
        "plt.suptitle(\"HeatMap for Correlation of Medium Volume Visitors Outlets\",y=1.05)\n",
        "\n",
        "ax.set_xticklabels(ax.get_xticklabels(), rotation=45, horizontalalignment='right')\n",
        "plt.show()"
      ]
    },
    {
      "cell_type": "markdown",
      "metadata": {
        "id": "BI7o6mR7Lon6"
      },
      "source": [
        "# Heatmap Correlation for SummaryData"
      ]
    },
    {
      "cell_type": "code",
      "execution_count": null,
      "metadata": {
        "id": "j7o_ePixwYOn"
      },
      "outputs": [],
      "source": [
        "\n",
        "plt.figure(figsize=(8, 8))\n",
        "corr = summary_data.corr()\n",
        "ax = sns.heatmap(corr, vmin=-1, vmax=1, center=0, cmap=sns.diverging_palette(220, 20, n=200), square=True, annot=True,\n",
        "                 annot_kws={\"size\": 8})\n",
        "ax.set_xticklabels(ax.get_xticklabels(), rotation=45, horizontalalignment='right')\n",
        "ax.set_yticklabels(ax.get_yticklabels(), rotation=45, horizontalalignment='right')\n",
        "plt.suptitle(\"HeatMap for Correlation of Summary data variables\",y=1.05)\n",
        "\n",
        "\n",
        "plt.show()\n"
      ]
    },
    {
      "cell_type": "markdown",
      "metadata": {
        "id": "TvU6QVabLvxN"
      },
      "source": [
        "Interactive Visualisation"
      ]
    },
    {
      "cell_type": "code",
      "execution_count": null,
      "metadata": {
        "id": "Wa2Z3url4pXk"
      },
      "outputs": [],
      "source": [
        "summary_data['BubbleSize'] = summary_data['Size'] * 3.0\n",
        "\n",
        "\n",
        "plot = summary_data.hvplot.scatter(\n",
        "    frame_height=500, frame_width=500,\n",
        "    title='TotalCustomers vs Marketing (vs Size)',\n",
        "    xlabel='Marketing (£/unit)', ylabel='Customers (£/unit)',\n",
        "    alpha=0.5, padding=0.1, hover_cols='all',\n",
        "    tools=['pan', 'box_zoom', 'wheel_zoom', 'undo', 'redo', 'hover', 'save', 'reset'],\n",
        "    x='Marketing', y='TotalCustomers', size='Size'\n",
        ")\n",
        "hv.extension('bokeh')\n",
        "plot"
      ]
    },
    {
      "cell_type": "code",
      "execution_count": null,
      "metadata": {
        "id": "FcPKfm4qQMZg"
      },
      "outputs": [],
      "source": [
        "\n",
        "import numpy as np\n",
        "period = 90\n",
        "rolling_average = data[medium_volume].rolling(window=period).mean()\n",
        "plt.figure(figsize=(8, 8))\n",
        "plt.plot(data[medium_volume], linewidth=0.5)\n",
        "plt.gca().set_prop_cycle(None)\n",
        "plt.plot(rolling_average[medium_volume], linewidth=2)\n",
        "# plt.ylim(ymin=0)\n",
        "plt.xlabel('Date', fontsize=18)\n",
        "plt.ylabel('Page Hits', fontsize=18)\n",
        "plt.title('Medium Volume Page Hits\\n with 14-day Rolling Average', fontsize=20)\n",
        "plt.legend(medium_volume, loc=2)\n",
        "plt.show()"
      ]
    },
    {
      "cell_type": "code",
      "execution_count": null,
      "metadata": {
        "id": "SGKy28gXOe0w"
      },
      "outputs": [],
      "source": [
        "selected = high_volume\n",
        "for name in selected:\n",
        "    pd.plotting.autocorrelation_plot(data[name])\n",
        "    # plt.xlim([0, 50]) # uncomment this line to zoom in\n",
        "    plt.title('Page ' + name)\n",
        "    plt.show()"
      ]
    },
    {
      "cell_type": "code",
      "execution_count": null,
      "metadata": {
        "id": "JLm8qLn3RJka"
      },
      "outputs": [],
      "source": [
        "from statsmodels.tsa.seasonal import seasonal_decompose\n",
        "selected = high_volume\n",
        "\n",
        "for name in selected:\n",
        "    result = seasonal_decompose(data[name], model='multiplicative', period=7)\n",
        "    result.plot()\n",
        "    plt.suptitle('Outlet ' + name,\n",
        "        position=(0.5, 1.0))\n",
        "    plt.show()"
      ]
    },
    {
      "cell_type": "code",
      "execution_count": null,
      "metadata": {
        "id": "ffZ3GUvl6-Sn"
      },
      "outputs": [],
      "source": [
        "plot = data[high_volume].hvplot.line(\n",
        "    frame_height=500, frame_width=500,\n",
        "    xlabel='Date', ylabel='Hits',\n",
        "    title='High Volume Outlets'\n",
        ")\n",
        "hv.extension('bokeh')\n",
        "plot\n",
        "\n"
      ]
    },
    {
      "cell_type": "code",
      "execution_count": null,
      "metadata": {
        "id": "kv1wCHyEC3ac"
      },
      "outputs": [],
      "source": [
        "plot = data[medium_volume].hvplot.line(\n",
        "    frame_height=500, frame_width=500,\n",
        "    xlabel='Date', ylabel='Hits',\n",
        "    title='Medium Volume Outlets'\n",
        ")\n",
        "hv.extension('bokeh')\n",
        "plot"
      ]
    },
    {
      "cell_type": "code",
      "execution_count": null,
      "metadata": {
        "colab": {
          "background_save": true
        },
        "id": "OofOAu_2DBws"
      },
      "outputs": [],
      "source": [
        "x_min = 1400\n",
        "x_max = 2500\n",
        "bin_width = 15\n",
        "n_bins = int((bin_width + x_max - x_min) / bin_width)\n",
        "print(str(n_bins) + ' bins')\n",
        "bins = [(x_min + x * (bin_width + x_max - x_min) / n_bins) for x in range(int(n_bins))]\n",
        "\n",
        "plot = data[high_volume].hvplot.hist(\n",
        "    frame_height=500, frame_width=500,\n",
        "    xlabel='Units sold per day', ylabel='Frequency',\n",
        "    title='High Volume Outlets',\n",
        "    alpha=0.5, muted_alpha=0, muted_fill_alpha=0, muted_line_alpha=0,\n",
        "    tools=['pan', 'box_zoom', 'wheel_zoom', 'undo', 'redo', 'hover', 'save', 'reset'],\n",
        "    bins=bins\n",
        ")\n",
        "hv.extension('bokeh')\n",
        "plot"
      ]
    },
    {
      "cell_type": "code",
      "execution_count": null,
      "metadata": {
        "colab": {
          "background_save": true
        },
        "id": "gQkiVgvNFBv4"
      },
      "outputs": [],
      "source": [
        "x_min = 400\n",
        "x_max = 1500\n",
        "bin_width = 18\n",
        "n_bins = int((bin_width + x_max - x_min) / bin_width)\n",
        "print(str(n_bins) + ' bins')\n",
        "bins = [(x_min + x * (bin_width + x_max - x_min) / n_bins) for x in range(int(n_bins))]\n",
        "\n",
        "plot = data[medium_volume].hvplot.hist(\n",
        "    frame_height=500, frame_width=500,\n",
        "    xlabel='Units sold per day', ylabel='Frequency',\n",
        "    title='Medium Volume Outlets',\n",
        "    alpha=0.5, muted_alpha=0, muted_fill_alpha=0, muted_line_alpha=0,\n",
        "    tools=['pan', 'box_zoom', 'wheel_zoom', 'undo', 'redo', 'hover', 'save', 'reset'],\n",
        "    bins=bins\n",
        ")\n",
        "hv.extension('bokeh')\n",
        "plot"
      ]
    },
    {
      "cell_type": "code",
      "execution_count": null,
      "metadata": {
        "colab": {
          "background_save": true
        },
        "id": "bSwvs7SKRLcd"
      },
      "outputs": [],
      "source": [
        "summary_data['BubbleSize'] = summary_data['Size'] * 3.0\n",
        "print(summary_data.head())\n",
        "\n",
        "\n",
        "plot = summary_data.hvplot.scatter(\n",
        "    frame_height=500, frame_width=500,\n",
        "    title='TotalCustomers vs Marketing (vs Size)',\n",
        "    xlabel='HitTotalCustomers (£/unit)', ylabel='RevMarketingenue (£/unit)',\n",
        "    alpha=0.5, padding=0.1, hover_cols='all',\n",
        "    tools=['pan', 'box_zoom', 'wheel_zoom', 'undo', 'redo', 'hover', 'save', 'reset'],\n",
        "    x='TotalCustomers', y='Marketing', size='Size'\n",
        ")\n",
        "hv.extension('bokeh')\n",
        "plot"
      ]
    },
    {
      "cell_type": "code",
      "execution_count": null,
      "metadata": {
        "colab": {
          "background_save": true
        },
        "id": "nuykI6qIaWV5"
      },
      "outputs": [],
      "source": [
        "\n",
        "plt.figure(figsize=(8, 8))\n",
        "# data[selected].boxplot()\n",
        "plt.boxplot(data[high_volume], labels=high_volume)\n",
        "plt.xlabel('Page Number', fontsize=18)\n",
        "plt.ylabel('Page Hits per day', fontsize=18)\n",
        "plt.title('High volume Page Hits distributions', fontsize=20)\n",
        "plt.show()"
      ]
    },
    {
      "cell_type": "code",
      "execution_count": null,
      "metadata": {
        "colab": {
          "background_save": true
        },
        "id": "VMEKRWZ4apl6"
      },
      "outputs": [],
      "source": [
        "plt.figure(figsize=(8, 8))\n",
        "# data[selected].boxplot()\n",
        "plt.boxplot(data[medium_volume], labels=medium_volume)\n",
        "plt.xlabel('Page Number', fontsize=18)\n",
        "plt.ylabel('Page Hits per day', fontsize=18)\n",
        "plt.title('High volume Page Hits distributions', fontsize=20)\n",
        "plt.show()"
      ]
    },
    {
      "cell_type": "code",
      "execution_count": null,
      "metadata": {
        "colab": {
          "background_save": true
        },
        "id": "Ww72bi_wa8ee"
      },
      "outputs": [],
      "source": [
        "plt.figure(figsize=(8, 8))\n",
        "counter = 1\n",
        "x_pos = np.arange(len(summary_data.index))\n",
        "print(summary_data)\n",
        "for attribute in summary_data:\n",
        "    sub = plt.subplot(3, 3, counter)\n",
        "    sub.bar(x_pos, summary_data[attribute], align='center')\n",
        "    sub.set_xticks([])\n",
        "    sub.set_xticks(x_pos)\n",
        "    sub.set_xticklabels(summary_data.index)\n",
        "    sub.set_xlabel('Outlet', fontsize=12)\n",
        "    sub.set_ylabel(attribute, fontsize=12)\n",
        "    counter += 1\n",
        "plt.tight_layout()\n",
        "plt.show()"
      ]
    }
  ],
  "metadata": {
    "colab": {
      "provenance": []
    },
    "kernelspec": {
      "display_name": "Python 3",
      "name": "python3"
    },
    "language_info": {
      "name": "python"
    }
  },
  "nbformat": 4,
  "nbformat_minor": 0
}